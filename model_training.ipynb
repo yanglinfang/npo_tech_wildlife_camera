{
  "cells": [
    {
      "cell_type": "markdown",
      "metadata": {},
      "source": [
        "# How to train a tensorflow model from scratch"
      ]
    },
    {
      "cell_type": "markdown",
      "metadata": {
        "id": "S-gtStd67AiY"
      },
      "source": [
        "## Preparation of libraries"
      ]
    },
    {
      "cell_type": "code",
      "execution_count": 1,
      "metadata": {
        "id": "7iTl6DTY0urn"
      },
      "outputs": [],
      "source": [
        "import numpy as np\n",
        "import matplotlib.pyplot as plt\n",
        "import tensorflow as tf\n",
        "import cv2\n",
        "import requests\n",
        "import time\n",
        "import os\n",
        "import re\n",
        "\n",
        "# Personal access data\n",
        "import authInfo"
      ]
    },
    {
      "cell_type": "markdown",
      "metadata": {},
      "source": [
        "Github repo path for loading training images and test images"
      ]
    },
    {
      "cell_type": "code",
      "execution_count": 2,
      "metadata": {},
      "outputs": [],
      "source": [
        "# Github Repository Information\n",
        "repoOwner = 'yanglinfang'\n",
        "repoName = 'npo_tech_wildlife_camera'\n",
        "trainPath = 'dataset/train_set/wild/'\n",
        "testPath = 'dataset/test_set/wild/'\n",
        "myToken = authInfo.gitHubToken\n",
        "\n",
        "# GitHub API endpoint to list contents of the folder\n",
        "trainImageUrl = f'https://api.github.com/repos/{repoOwner}/{repoName}/contents/{trainPath}'\n",
        "testImageUrl = f'https://api.github.com/repos/{repoOwner}/{repoName}/contents/{testPath}'\n",
        "\n",
        "# OAuth Token used for more data limit\n",
        "githubHeaders = {\n",
        "    'Authorization': f'token {myToken}'\n",
        "}\n",
        "\n",
        "# Retry times when failed to download image\n",
        "maxRetry = 10\n"
      ]
    },
    {
      "cell_type": "markdown",
      "metadata": {},
      "source": [
        "Convert image to same shape for model training"
      ]
    },
    {
      "cell_type": "code",
      "execution_count": 3,
      "metadata": {},
      "outputs": [],
      "source": [
        "# Define the common width\n",
        "common_width = 256\n",
        "common_height = 256"
      ]
    },
    {
      "cell_type": "markdown",
      "metadata": {
        "id": "NkBMa8TGdqRH"
      },
      "source": [
        "Variables used in later model training"
      ]
    },
    {
      "cell_type": "code",
      "execution_count": 4,
      "metadata": {
        "id": "XxB7SteGdvv2"
      },
      "outputs": [],
      "source": [
        "# list of numpy that stores train image in numpy format\n",
        "trainFeatures = []\n",
        "trainLabels = [0] * 393\n",
        "for i in range(len(trainLabels)):\n",
        "    if i >= 343 and i <= 392:\n",
        "        trainLabels[i] = 1\n",
        "\n",
        "# list of numpy that stores test image in numpy format\n",
        "testFeatures = []\n",
        "testLabels = [0] * 160\n",
        "for i in range(len(testLabels)):\n",
        "    if i >= 140 and i <= 159:\n",
        "        testLabels[i] = 1\n",
        "\n",
        "# number of times model trains itself\n",
        "numEpochs = 10\n",
        "\n",
        "# how many files being trained each iteration\n",
        "batchSize = 32"
      ]
    },
    {
      "cell_type": "markdown",
      "metadata": {},
      "source": [
        "Get Image from train and test to be numpy array"
      ]
    },
    {
      "cell_type": "code",
      "execution_count": 6,
      "metadata": {},
      "outputs": [],
      "source": [
        "def image_to_numpy(githubApiUrl, maxRetry = 10, numpyList = []):\n",
        "    # Send HTTP GET request\n",
        "    response = requests.get(githubApiUrl, headers=githubHeaders)\n",
        "\n",
        "    #Check if request was successful(status code 200)\n",
        "    if response.status_code == 200:\n",
        "\n",
        "        # Turn the folder into a file \n",
        "        folderContents = response.json()\n",
        "\n",
        "        # Sort filenames based on numeric values\n",
        "        sortedFolder = sorted(folderContents, key=lambda x: extract_numeric_name(x['name']))\n",
        "\n",
        "        # Loop through contents of folder\n",
        "        for item in sortedFolder:\n",
        "            if item['type'] == 'file':\n",
        "                fileName = item['name']\n",
        "                imageUrl = item['download_url']\n",
        "                # print(fileName)\n",
        "                for retry in range(maxRetry):\n",
        "                    try:\n",
        "                        # Send an HTTP GET request to load the image\n",
        "                        imageResponse = requests.get(imageUrl, timeout=10)\n",
        "\n",
        "                        if imageResponse.status_code == 200:\n",
        "                            imageNp = np.frombuffer(imageResponse.content, dtype = np.uint8)\n",
        "                            image = cv2.imdecode(imageNp, cv2.IMREAD_COLOR)\n",
        "                            resizedImage = cv2.resize(image, (common_width, common_height))\n",
        "                            numpyList.append(resizedImage)\n",
        "                            break\n",
        "                    except requests.exceptions.RequestException as e:\n",
        "                        time.sleep(1)\n",
        "                else:\n",
        "                    print(f'Failed to downloadimage {fileName} after {maxRetry} retries')\n",
        "    else:\n",
        "        print(f'Failed to fetch folder: Status Code {response.status_code}')"
      ]
    },
    {
      "cell_type": "markdown",
      "metadata": {},
      "source": [
        "Some helper function for sorting data in the needed order"
      ]
    },
    {
      "cell_type": "code",
      "execution_count": 7,
      "metadata": {},
      "outputs": [],
      "source": [
        "# code to sort file in numeric order\n",
        "def extract_numeric_name(file):\n",
        "    match = re.search(r'\\d+', file)\n",
        "    if match:\n",
        "        return int(match.group())\n",
        "    return -1"
      ]
    },
    {
      "cell_type": "markdown",
      "metadata": {},
      "source": [
        "Execute to get the images from cloud then convert and add into the numpy array"
      ]
    },
    {
      "cell_type": "code",
      "execution_count": 8,
      "metadata": {},
      "outputs": [],
      "source": [
        "image_to_numpy(trainImageUrl, maxRetry, trainFeatures)\n",
        "image_to_numpy(testImageUrl, maxRetry, testFeatures)"
      ]
    },
    {
      "cell_type": "markdown",
      "metadata": {
        "id": "GWqcse017Tcw"
      },
      "source": [
        "## Create Model"
      ]
    },
    {
      "cell_type": "code",
      "execution_count": 9,
      "metadata": {
        "id": "FPxHnlfC6_Pu"
      },
      "outputs": [],
      "source": [
        "model = tf.keras.Sequential([\n",
        "    tf.keras.layers.Input(shape=(256, 256, 3)),\n",
        "    tf.keras.layers.Dense(128, activation='relu'),\n",
        "    tf.keras.layers.Dense(128, activation='relu'),\n",
        "    tf.keras.layers.Flatten(),  # Add a flattening layer to convert the 4D input to 1D\n",
        "    tf.keras.layers.Dense(2, activation='softmax')\n",
        "])\n"
      ]
    },
    {
      "cell_type": "markdown",
      "metadata": {
        "id": "itFJX5aUc_Ax"
      },
      "source": [
        "## Compile Model"
      ]
    },
    {
      "cell_type": "code",
      "execution_count": 10,
      "metadata": {
        "id": "nI8ye2oKdBS3"
      },
      "outputs": [],
      "source": [
        "model.compile(optimizer='adam', loss='sparse_categorical_crossentropy', metrics=['accuracy'])\n"
      ]
    },
    {
      "cell_type": "markdown",
      "metadata": {
        "id": "sbao4koodJLw"
      },
      "source": [
        "Train Model"
      ]
    },
    {
      "cell_type": "code",
      "execution_count": 11,
      "metadata": {},
      "outputs": [],
      "source": [
        "# Convert train lists to NumPy arrays\n",
        "trainFeatures_np = np.array(trainFeatures)\n",
        "trainLabels_np = np.array(trainLabels)\n",
        "\n",
        "# Convert test list to Numpy arrrays\n",
        "testFeatures_np = np.array(testFeatures)\n",
        "testLabels_np = np.array(testLabels)"
      ]
    },
    {
      "cell_type": "code",
      "execution_count": 13,
      "metadata": {
        "colab": {
          "base_uri": "https://localhost:8080/",
          "height": 178
        },
        "id": "JyhG8NMldKiC",
        "outputId": "f8aaf06f-0696-413d-b7e4-f7f6c9bd5f01"
      },
      "outputs": [
        {
          "name": "stdout",
          "output_type": "stream",
          "text": [
            "Epoch 1/10\n",
            "13/13 [==============================] - 35s 2s/step - loss: 21000.2734 - accuracy: 0.7684\n",
            "Epoch 2/10\n",
            "13/13 [==============================] - 26s 2s/step - loss: 3636.5713 - accuracy: 0.7863\n",
            "Epoch 3/10\n",
            "13/13 [==============================] - 26s 2s/step - loss: 871.8842 - accuracy: 0.8575\n",
            "Epoch 4/10\n",
            "13/13 [==============================] - 26s 2s/step - loss: 141.9894 - accuracy: 0.8473\n",
            "Epoch 5/10\n",
            "13/13 [==============================] - 26s 2s/step - loss: 67.2858 - accuracy: 0.8601\n",
            "Epoch 6/10\n",
            "13/13 [==============================] - 26s 2s/step - loss: 18.9307 - accuracy: 0.9313\n",
            "Epoch 7/10\n",
            "13/13 [==============================] - 26s 2s/step - loss: 45.4250 - accuracy: 0.8753\n",
            "Epoch 8/10\n",
            "13/13 [==============================] - 26s 2s/step - loss: 17.7101 - accuracy: 0.9008\n",
            "Epoch 9/10\n",
            "13/13 [==============================] - 26s 2s/step - loss: 14.6903 - accuracy: 0.9415\n",
            "Epoch 10/10\n",
            "13/13 [==============================] - 26s 2s/step - loss: 18.4738 - accuracy: 0.9389\n"
          ]
        },
        {
          "data": {
            "text/plain": [
              "<keras.src.callbacks.History at 0x24fa7971720>"
            ]
          },
          "execution_count": 13,
          "metadata": {},
          "output_type": "execute_result"
        }
      ],
      "source": [
        "model.fit(trainFeatures_np, trainLabels_np, epochs=numEpochs, batch_size=batchSize)"
      ]
    },
    {
      "cell_type": "markdown",
      "metadata": {
        "id": "aeU9uYkVdkIV"
      },
      "source": [
        "## Evaluate Model"
      ]
    },
    {
      "cell_type": "code",
      "execution_count": 15,
      "metadata": {
        "id": "TY78VCZLdljJ"
      },
      "outputs": [
        {
          "name": "stdout",
          "output_type": "stream",
          "text": [
            "5/5 [==============================] - 5s 896ms/step - loss: 62.8635 - accuracy: 0.8938\n",
            "Test accuracy: 0.893750011920929\n"
          ]
        }
      ],
      "source": [
        "test_loss, test_accuracy = model.evaluate(testFeatures_np, testLabels_np)\n",
        "print(f\"Test accuracy: {test_accuracy}\")"
      ]
    },
    {
      "cell_type": "code",
      "execution_count": 16,
      "metadata": {},
      "outputs": [
        {
          "name": "stdout",
          "output_type": "stream",
          "text": [
            "5/5 [==============================] - 7s 1s/step\n"
          ]
        }
      ],
      "source": [
        "# Use model.predict to obtain predictions for the test dataset\n",
        "predictions = model.predict(testFeatures_np)\n",
        "\n",
        "# The predictions are in the form of class probabilities; you can get the predicted class (0 or 1) for each image\n",
        "predicted_labels = np.argmax(predictions, axis=1)\n",
        "\n",
        "# Compare predicted_labels with the actual test labels to identify correct and incorrect classifications\n",
        "correctly_classified_indices = np.where(predicted_labels == testLabels_np)[0]\n",
        "incorrectly_classified_indices = np.where(predicted_labels != testLabels_np)[0]\n",
        "\n",
        "# Access the corresponding test images using the indices\n",
        "correctly_classified_images = [testFeatures_np[i] for i in correctly_classified_indices]\n",
        "incorrectly_classified_images = [testFeatures_np[i] for i in incorrectly_classified_indices]"
      ]
    },
    {
      "cell_type": "code",
      "execution_count": 20,
      "metadata": {},
      "outputs": [
        {
          "name": "stdout",
          "output_type": "stream",
          "text": [
            "Correctly Classified: 143/160\n"
          ]
        }
      ],
      "source": [
        "# Calculate the number of correctly classified images\n",
        "num_correctly_classified = len(correctly_classified_images)\n",
        "\n",
        "# Total number of test images\n",
        "num_total_images = len(testLabels_np)\n",
        "\n",
        "# Create a string summary\n",
        "summary = f\"Correctly Classified: {num_correctly_classified}/{num_total_images}\"\n",
        "\n",
        "# Print the summary\n",
        "print(summary)"
      ]
    },
    {
      "cell_type": "markdown",
      "metadata": {},
      "source": [
        "## Save model for future use"
      ]
    },
    {
      "cell_type": "code",
      "execution_count": 22,
      "metadata": {},
      "outputs": [
        {
          "name": "stderr",
          "output_type": "stream",
          "text": [
            "d:\\Programming\\python\\lib\\site-packages\\keras\\src\\engine\\training.py:3079: UserWarning: You are saving your model as an HDF5 file via `model.save()`. This file format is considered legacy. We recommend using instead the native Keras format, e.g. `model.save('my_model.keras')`.\n",
            "  saving_api.save_model(\n"
          ]
        }
      ],
      "source": [
        "# Legacy way\n",
        "model.save('boar_recognition.h5')\n",
        "# Keras format\n",
        "model.save('boar_recognition.keras')"
      ]
    }
  ],
  "metadata": {
    "accelerator": "GPU",
    "colab": {
      "gpuType": "T4",
      "provenance": []
    },
    "kernelspec": {
      "display_name": "Python 3",
      "name": "python3"
    },
    "language_info": {
      "codemirror_mode": {
        "name": "ipython",
        "version": 3
      },
      "file_extension": ".py",
      "mimetype": "text/x-python",
      "name": "python",
      "nbconvert_exporter": "python",
      "pygments_lexer": "ipython3",
      "version": "3.10.4"
    }
  },
  "nbformat": 4,
  "nbformat_minor": 0
}
