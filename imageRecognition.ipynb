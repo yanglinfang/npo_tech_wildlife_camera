{
 "cells": [
  {
   "cell_type": "markdown",
   "id": "57d85fa3-31d8-4b90-ae94-c1ca13e3154a",
   "metadata": {},
   "source": [
    "# This is a test using jupyter\n",
    "hello hello"
   ]
  },
  {
   "cell_type": "code",
   "execution_count": 1,
   "id": "ec782a2c",
   "metadata": {},
   "outputs": [
    {
     "name": "stdout",
     "output_type": "stream",
     "text": [
      "I wonder how this goes\n"
     ]
    }
   ],
   "source": [
    "print('I wonder how this goes')"
   ]
  }
 ],
 "metadata": {
  "kernelspec": {
   "display_name": "Python 3 (ipykernel)",
   "language": "python",
   "name": "python3"
  },
  "language_info": {
   "codemirror_mode": {
    "name": "ipython",
    "version": 3
   },
   "file_extension": ".py",
   "mimetype": "text/x-python",
   "name": "python",
   "nbconvert_exporter": "python",
   "pygments_lexer": "ipython3",
   "version": "3.10.4"
  }
 },
 "nbformat": 4,
 "nbformat_minor": 5
}
